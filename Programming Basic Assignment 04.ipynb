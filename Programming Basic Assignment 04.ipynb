{
 "cells": [
  {
   "cell_type": "markdown",
   "metadata": {},
   "source": [
    "\n",
    "1. Write a Python Program to Find the Factorial of a Number?"
   ]
  },
  {
   "cell_type": "code",
   "execution_count": 2,
   "metadata": {},
   "outputs": [
    {
     "name": "stdout",
     "output_type": "stream",
     "text": [
      "Enter number: 15\n",
      "Factorial of 15 is 1307674368000\n"
     ]
    }
   ],
   "source": [
    "num = int(input(\"Enter number: \"))\n",
    "factorial = 1\n",
    "if num<0:\n",
    "    print(\"Factorial does not exist\")\n",
    "elif num==0:\n",
    "    print(\"Factorial is 1\")\n",
    "else:\n",
    "    for i in range(1,num+1):\n",
    "        factorial = factorial*i\n",
    "    print(\"Factorial of {} is {}\".format(num, factorial))"
   ]
  },
  {
   "cell_type": "markdown",
   "metadata": {},
   "source": [
    "\n",
    "2. Write a Python Program to Display the multiplication Table?"
   ]
  },
  {
   "cell_type": "code",
   "execution_count": 3,
   "metadata": {},
   "outputs": [
    {
     "name": "stdout",
     "output_type": "stream",
     "text": [
      "Enter number: 22\n",
      "22 X 1 = 22\n",
      "22 X 2 = 44\n",
      "22 X 3 = 66\n",
      "22 X 4 = 88\n",
      "22 X 5 = 110\n",
      "22 X 6 = 132\n",
      "22 X 7 = 154\n",
      "22 X 8 = 176\n",
      "22 X 9 = 198\n",
      "22 X 10 = 220\n"
     ]
    }
   ],
   "source": [
    "num = int(input(\"Enter number: \"))\n",
    "\n",
    "for i in range(1,11):\n",
    "    product = num*i\n",
    "    print(\"{} X {} = {}\".format(num,i,product))"
   ]
  },
  {
   "cell_type": "markdown",
   "metadata": {},
   "source": [
    "\n",
    "3. Write a Python Program to Print the Fibonacci sequence?"
   ]
  },
  {
   "cell_type": "code",
   "execution_count": 5,
   "metadata": {},
   "outputs": [
    {
     "name": "stdout",
     "output_type": "stream",
     "text": [
      "Enter desired length: 5\n",
      "Fibonacci Series:  0 1 1 2 3 "
     ]
    }
   ],
   "source": [
    "n = int(input(\"Enter desired length: \"))\n",
    "a = 0\n",
    "b = 1\n",
    "sum = 0\n",
    "count = 1\n",
    "print(\"Fibonacci Series: \", end = \" \")\n",
    "while(count <= n):\n",
    "    print(sum, end = \" \")\n",
    "    count += 1\n",
    "    a = b\n",
    "    b = sum\n",
    "    sum = a + b"
   ]
  },
  {
   "cell_type": "markdown",
   "metadata": {},
   "source": [
    "\n",
    "4. Write a Python Program to Check Armstrong Number?"
   ]
  },
  {
   "cell_type": "code",
   "execution_count": 7,
   "metadata": {},
   "outputs": [
    {
     "name": "stdout",
     "output_type": "stream",
     "text": [
      "Enter number to check: 1\n",
      "its armstrong number\n"
     ]
    }
   ],
   "source": [
    "num = int(input(\"Enter number to check: \"))\n",
    "rem = 0\n",
    "s = 0\n",
    "temp = num\n",
    "while temp>0:\n",
    "    rem = temp%10\n",
    "    s = s + rem**3\n",
    "    temp = temp//10\n",
    "if num==s:\n",
    "    print(\"its armstrong number\")\n",
    "else:\n",
    "    print(\"not armstrong number\")"
   ]
  },
  {
   "cell_type": "markdown",
   "metadata": {},
   "source": [
    "5. Write a Python Program to Find Armstrong Number in an Interval?"
   ]
  },
  {
   "cell_type": "code",
   "execution_count": 9,
   "metadata": {},
   "outputs": [
    {
     "name": "stdout",
     "output_type": "stream",
     "text": [
      "Enter lower limit of interval: 1\n",
      "Enter upper limit of interval: 500\n",
      "Armstrong numbers in given interval are:  1 64 125 153 216 370 371 407 "
     ]
    }
   ],
   "source": [
    "lower = int(input(\"Enter lower limit of interval: \"))\n",
    "upper = int(input(\"Enter upper limit of interval: \"))\n",
    "print(\"Armstrong numbers in given interval are: \", end = \" \")\n",
    "for num in range(lower,upper+1):\n",
    "    s = 0\n",
    "    temp = num\n",
    "    while temp>0:\n",
    "        rem = temp%10\n",
    "        s = s + rem**3\n",
    "        temp = temp//10\n",
    "        if num==s:\n",
    "            print(num, end=\" \")"
   ]
  },
  {
   "cell_type": "markdown",
   "metadata": {},
   "source": [
    "\n",
    "6. Write a Python Program to Find the Sum of Natural Numbers?"
   ]
  },
  {
   "cell_type": "code",
   "execution_count": 10,
   "metadata": {},
   "outputs": [
    {
     "name": "stdout",
     "output_type": "stream",
     "text": [
      "Enter number upto which sum is required: 10\n",
      "Sum of natural numbers is:  55\n"
     ]
    }
   ],
   "source": [
    "num = int(input(\"Enter number upto which sum is required: \"))\n",
    "sum = 0\n",
    "while num>0:\n",
    "    sum = sum+num\n",
    "    num -= 1\n",
    "print(\"Sum of natural numbers is: \", sum)"
   ]
  }
 ],
 "metadata": {
  "kernelspec": {
   "display_name": "Python 3",
   "language": "python",
   "name": "python3"
  },
  "language_info": {
   "codemirror_mode": {
    "name": "ipython",
    "version": 3
   },
   "file_extension": ".py",
   "mimetype": "text/x-python",
   "name": "python",
   "nbconvert_exporter": "python",
   "pygments_lexer": "ipython3",
   "version": "3.7.6"
  }
 },
 "nbformat": 4,
 "nbformat_minor": 4
}
