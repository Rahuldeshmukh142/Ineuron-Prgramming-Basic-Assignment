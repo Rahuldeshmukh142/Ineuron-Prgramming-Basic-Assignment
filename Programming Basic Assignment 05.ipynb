{
 "cells": [
  {
   "cell_type": "markdown",
   "metadata": {},
   "source": [
    "\n",
    "1. Write a Python Program to Find LCM?"
   ]
  },
  {
   "cell_type": "code",
   "execution_count": 2,
   "metadata": {},
   "outputs": [],
   "source": [
    "def lcm(num_1,num_2):\n",
    "    if num_1>num_2:\n",
    "        max = num_1\n",
    "    else:\n",
    "        max = num_2\n",
    "    while True:\n",
    "        if max%num_1==0 and max%num_2==0:\n",
    "            print(\"LCM of {} and {} is {}\".format(num_1, num_2, max))\n",
    "            break\n",
    "        max = max+1"
   ]
  },
  {
   "cell_type": "code",
   "execution_count": 3,
   "metadata": {},
   "outputs": [
    {
     "name": "stdout",
     "output_type": "stream",
     "text": [
      "LCM of 5 and 6 is 30\n"
     ]
    }
   ],
   "source": [
    "lcm(5,6)"
   ]
  },
  {
   "cell_type": "markdown",
   "metadata": {},
   "source": [
    "\n",
    "2. Write a Python Program to Find HCF?"
   ]
  },
  {
   "cell_type": "code",
   "execution_count": 11,
   "metadata": {},
   "outputs": [],
   "source": [
    "def hcf(num_1 ,num_2):\n",
    "    if num_1< num_2:\n",
    "        min = num_1\n",
    "    else:\n",
    "        min = num_2\n",
    "    for i in range(1,min+1):\n",
    "        if num_1%i==0 and num_2%i==0:\n",
    "            hcf=i\n",
    "            break\n",
    "    print(\"HCF is: \", hcf)"
   ]
  },
  {
   "cell_type": "code",
   "execution_count": 12,
   "metadata": {},
   "outputs": [
    {
     "name": "stdout",
     "output_type": "stream",
     "text": [
      "HCF is:  1\n"
     ]
    }
   ],
   "source": [
    "hcf(12,284)"
   ]
  },
  {
   "cell_type": "markdown",
   "metadata": {},
   "source": [
    "\n",
    "3. Write a Python Program to Convert Decimal to Binary, Octal and Hexadecimal?"
   ]
  },
  {
   "cell_type": "code",
   "execution_count": 13,
   "metadata": {},
   "outputs": [
    {
     "name": "stdout",
     "output_type": "stream",
     "text": [
      "Enter Decimal Number: 5\n",
      "Decimal to Binary:  0b101\n",
      "Decimal to Octal:  0o5\n",
      "Decimal to Hexadecimal:  0x5\n"
     ]
    }
   ],
   "source": [
    "num = int(input(\"Enter Decimal Number: \"))\n",
    "print(\"Decimal to Binary: \",bin(num))\n",
    "print(\"Decimal to Octal: \",oct(num))\n",
    "print(\"Decimal to Hexadecimal: \",hex(num))"
   ]
  },
  {
   "cell_type": "markdown",
   "metadata": {},
   "source": [
    "4. Write a Python Program To Find ASCII value of a character?"
   ]
  },
  {
   "cell_type": "code",
   "execution_count": 14,
   "metadata": {},
   "outputs": [
    {
     "data": {
      "text/plain": [
       "98"
      ]
     },
     "execution_count": 14,
     "metadata": {},
     "output_type": "execute_result"
    }
   ],
   "source": [
    "def ascii_value(character):\n",
    "    return ord(character)\n",
    "\n",
    "ascii_value(\"b\")"
   ]
  },
  {
   "cell_type": "markdown",
   "metadata": {},
   "source": [
    "\n",
    "5. Write a Python Program to Make a Simple Calculator with 4 basic mathematical operations?"
   ]
  },
  {
   "cell_type": "code",
   "execution_count": 16,
   "metadata": {},
   "outputs": [],
   "source": [
    "def calculator(a,b):\n",
    "    ops = str(input(\"What operation would you like to perform: \"))\n",
    "    if ops == \"add\":\n",
    "        print(\"{} + {} = {}\".format(a,b,a+b))\n",
    "    elif ops == \"substract\":\n",
    "        print(\"{} - {} = {}\".format(a,b,a-b))\n",
    "    elif ops == \"multiply\":\n",
    "        print(\"{} X {} = {}\".format(a,b,a*b))\n",
    "    elif ops == \"division\":\n",
    "        print(\"{} / {} = {}\".format(a,b,a/b))\n",
    "    else:\n",
    "        print(\"Enter correct operation\")"
   ]
  },
  {
   "cell_type": "code",
   "execution_count": 22,
   "metadata": {},
   "outputs": [
    {
     "name": "stdout",
     "output_type": "stream",
     "text": [
      "What operation would you like to perform: add\n",
      "5 + 45 = 50\n"
     ]
    }
   ],
   "source": [
    "calculator(5,45)"
   ]
  },
  {
   "cell_type": "code",
   "execution_count": 24,
   "metadata": {},
   "outputs": [
    {
     "name": "stdout",
     "output_type": "stream",
     "text": [
      "What operation would you like to perform: division\n",
      "9.5 / 9.5 = 1.0\n"
     ]
    }
   ],
   "source": [
    "calculator(9.5,9.5)"
   ]
  },
  {
   "cell_type": "code",
   "execution_count": null,
   "metadata": {},
   "outputs": [],
   "source": []
  }
 ],
 "metadata": {
  "kernelspec": {
   "display_name": "Python 3",
   "language": "python",
   "name": "python3"
  },
  "language_info": {
   "codemirror_mode": {
    "name": "ipython",
    "version": 3
   },
   "file_extension": ".py",
   "mimetype": "text/x-python",
   "name": "python",
   "nbconvert_exporter": "python",
   "pygments_lexer": "ipython3",
   "version": "3.7.6"
  }
 },
 "nbformat": 4,
 "nbformat_minor": 4
}
